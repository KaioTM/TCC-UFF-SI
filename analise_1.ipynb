{
 "cells": [
  {
   "cell_type": "markdown",
   "metadata": {},
   "source": [
    "# Relatório de Análise - TCC"
   ]
  },
  {
   "cell_type": "markdown",
   "metadata": {},
   "source": [
    "## Análise de avaliações de desempenho para o TCC"
   ]
  },
  {
   "cell_type": "code",
   "execution_count": 1,
   "metadata": {},
   "outputs": [],
   "source": [
    "import pandas as pd\n",
    "import matplotlib.pyplot as plt\n",
    "import numpy as np"
   ]
  },
  {
   "cell_type": "code",
   "execution_count": 2,
   "metadata": {},
   "outputs": [],
   "source": [
    "%matplotlib inline"
   ]
  },
  {
   "cell_type": "code",
   "execution_count": 3,
   "metadata": {},
   "outputs": [
    {
     "ename": "ParserError",
     "evalue": "Error tokenizing data. C error: Expected 14 fields in line 88, saw 16\n",
     "output_type": "error",
     "traceback": [
      "\u001b[1;31m---------------------------------------------------------------------------\u001b[0m",
      "\u001b[1;31mParserError\u001b[0m                               Traceback (most recent call last)",
      "\u001b[1;32m<ipython-input-3-977830483d5e>\u001b[0m in \u001b[0;36m<module>\u001b[1;34m()\u001b[0m\n\u001b[1;32m----> 1\u001b[1;33m \u001b[0mpd\u001b[0m\u001b[1;33m.\u001b[0m\u001b[0mread_csv\u001b[0m\u001b[1;33m(\u001b[0m\u001b[1;34m'C:/Users/kaiom/Documents/TCC/Dados/Atualizados/Cliente_1/report_notas_comp.csv'\u001b[0m\u001b[1;33m,\u001b[0m \u001b[0mlow_memory\u001b[0m \u001b[1;33m=\u001b[0m \u001b[1;32mFalse\u001b[0m\u001b[1;33m,\u001b[0m \u001b[0msep\u001b[0m\u001b[1;33m=\u001b[0m\u001b[1;34m','\u001b[0m\u001b[1;33m)\u001b[0m\u001b[1;33m\u001b[0m\u001b[0m\n\u001b[0m",
      "\u001b[1;32m~\\Anaconda3\\lib\\site-packages\\pandas\\io\\parsers.py\u001b[0m in \u001b[0;36mparser_f\u001b[1;34m(filepath_or_buffer, sep, delimiter, header, names, index_col, usecols, squeeze, prefix, mangle_dupe_cols, dtype, engine, converters, true_values, false_values, skipinitialspace, skiprows, nrows, na_values, keep_default_na, na_filter, verbose, skip_blank_lines, parse_dates, infer_datetime_format, keep_date_col, date_parser, dayfirst, iterator, chunksize, compression, thousands, decimal, lineterminator, quotechar, quoting, escapechar, comment, encoding, dialect, tupleize_cols, error_bad_lines, warn_bad_lines, skipfooter, doublequote, delim_whitespace, low_memory, memory_map, float_precision)\u001b[0m\n\u001b[0;32m    676\u001b[0m                     skip_blank_lines=skip_blank_lines)\n\u001b[0;32m    677\u001b[0m \u001b[1;33m\u001b[0m\u001b[0m\n\u001b[1;32m--> 678\u001b[1;33m         \u001b[1;32mreturn\u001b[0m \u001b[0m_read\u001b[0m\u001b[1;33m(\u001b[0m\u001b[0mfilepath_or_buffer\u001b[0m\u001b[1;33m,\u001b[0m \u001b[0mkwds\u001b[0m\u001b[1;33m)\u001b[0m\u001b[1;33m\u001b[0m\u001b[0m\n\u001b[0m\u001b[0;32m    679\u001b[0m \u001b[1;33m\u001b[0m\u001b[0m\n\u001b[0;32m    680\u001b[0m     \u001b[0mparser_f\u001b[0m\u001b[1;33m.\u001b[0m\u001b[0m__name__\u001b[0m \u001b[1;33m=\u001b[0m \u001b[0mname\u001b[0m\u001b[1;33m\u001b[0m\u001b[0m\n",
      "\u001b[1;32m~\\Anaconda3\\lib\\site-packages\\pandas\\io\\parsers.py\u001b[0m in \u001b[0;36m_read\u001b[1;34m(filepath_or_buffer, kwds)\u001b[0m\n\u001b[0;32m    444\u001b[0m \u001b[1;33m\u001b[0m\u001b[0m\n\u001b[0;32m    445\u001b[0m     \u001b[1;32mtry\u001b[0m\u001b[1;33m:\u001b[0m\u001b[1;33m\u001b[0m\u001b[0m\n\u001b[1;32m--> 446\u001b[1;33m         \u001b[0mdata\u001b[0m \u001b[1;33m=\u001b[0m \u001b[0mparser\u001b[0m\u001b[1;33m.\u001b[0m\u001b[0mread\u001b[0m\u001b[1;33m(\u001b[0m\u001b[0mnrows\u001b[0m\u001b[1;33m)\u001b[0m\u001b[1;33m\u001b[0m\u001b[0m\n\u001b[0m\u001b[0;32m    447\u001b[0m     \u001b[1;32mfinally\u001b[0m\u001b[1;33m:\u001b[0m\u001b[1;33m\u001b[0m\u001b[0m\n\u001b[0;32m    448\u001b[0m         \u001b[0mparser\u001b[0m\u001b[1;33m.\u001b[0m\u001b[0mclose\u001b[0m\u001b[1;33m(\u001b[0m\u001b[1;33m)\u001b[0m\u001b[1;33m\u001b[0m\u001b[0m\n",
      "\u001b[1;32m~\\Anaconda3\\lib\\site-packages\\pandas\\io\\parsers.py\u001b[0m in \u001b[0;36mread\u001b[1;34m(self, nrows)\u001b[0m\n\u001b[0;32m   1034\u001b[0m                 \u001b[1;32mraise\u001b[0m \u001b[0mValueError\u001b[0m\u001b[1;33m(\u001b[0m\u001b[1;34m'skipfooter not supported for iteration'\u001b[0m\u001b[1;33m)\u001b[0m\u001b[1;33m\u001b[0m\u001b[0m\n\u001b[0;32m   1035\u001b[0m \u001b[1;33m\u001b[0m\u001b[0m\n\u001b[1;32m-> 1036\u001b[1;33m         \u001b[0mret\u001b[0m \u001b[1;33m=\u001b[0m \u001b[0mself\u001b[0m\u001b[1;33m.\u001b[0m\u001b[0m_engine\u001b[0m\u001b[1;33m.\u001b[0m\u001b[0mread\u001b[0m\u001b[1;33m(\u001b[0m\u001b[0mnrows\u001b[0m\u001b[1;33m)\u001b[0m\u001b[1;33m\u001b[0m\u001b[0m\n\u001b[0m\u001b[0;32m   1037\u001b[0m \u001b[1;33m\u001b[0m\u001b[0m\n\u001b[0;32m   1038\u001b[0m         \u001b[1;31m# May alter columns / col_dict\u001b[0m\u001b[1;33m\u001b[0m\u001b[1;33m\u001b[0m\u001b[0m\n",
      "\u001b[1;32m~\\Anaconda3\\lib\\site-packages\\pandas\\io\\parsers.py\u001b[0m in \u001b[0;36mread\u001b[1;34m(self, nrows)\u001b[0m\n\u001b[0;32m   1846\u001b[0m     \u001b[1;32mdef\u001b[0m \u001b[0mread\u001b[0m\u001b[1;33m(\u001b[0m\u001b[0mself\u001b[0m\u001b[1;33m,\u001b[0m \u001b[0mnrows\u001b[0m\u001b[1;33m=\u001b[0m\u001b[1;32mNone\u001b[0m\u001b[1;33m)\u001b[0m\u001b[1;33m:\u001b[0m\u001b[1;33m\u001b[0m\u001b[0m\n\u001b[0;32m   1847\u001b[0m         \u001b[1;32mtry\u001b[0m\u001b[1;33m:\u001b[0m\u001b[1;33m\u001b[0m\u001b[0m\n\u001b[1;32m-> 1848\u001b[1;33m             \u001b[0mdata\u001b[0m \u001b[1;33m=\u001b[0m \u001b[0mself\u001b[0m\u001b[1;33m.\u001b[0m\u001b[0m_reader\u001b[0m\u001b[1;33m.\u001b[0m\u001b[0mread\u001b[0m\u001b[1;33m(\u001b[0m\u001b[0mnrows\u001b[0m\u001b[1;33m)\u001b[0m\u001b[1;33m\u001b[0m\u001b[0m\n\u001b[0m\u001b[0;32m   1849\u001b[0m         \u001b[1;32mexcept\u001b[0m \u001b[0mStopIteration\u001b[0m\u001b[1;33m:\u001b[0m\u001b[1;33m\u001b[0m\u001b[0m\n\u001b[0;32m   1850\u001b[0m             \u001b[1;32mif\u001b[0m \u001b[0mself\u001b[0m\u001b[1;33m.\u001b[0m\u001b[0m_first_chunk\u001b[0m\u001b[1;33m:\u001b[0m\u001b[1;33m\u001b[0m\u001b[0m\n",
      "\u001b[1;32mpandas\\_libs\\parsers.pyx\u001b[0m in \u001b[0;36mpandas._libs.parsers.TextReader.read\u001b[1;34m()\u001b[0m\n",
      "\u001b[1;32mpandas\\_libs\\parsers.pyx\u001b[0m in \u001b[0;36mpandas._libs.parsers.TextReader._read_rows\u001b[1;34m()\u001b[0m\n",
      "\u001b[1;32mpandas\\_libs\\parsers.pyx\u001b[0m in \u001b[0;36mpandas._libs.parsers.raise_parser_error\u001b[1;34m()\u001b[0m\n",
      "\u001b[1;31mParserError\u001b[0m: Error tokenizing data. C error: Expected 14 fields in line 88, saw 16\n"
     ]
    }
   ],
   "source": [
    "pd.read_csv('C:/Users/kaiom/Documents/TCC/Dados/Atualizados/Cliente_1/report_notas_comp.csv', low_memory = False, sep=',')"
   ]
  },
  {
   "cell_type": "code",
   "execution_count": null,
   "metadata": {},
   "outputs": [],
   "source": [
    "dados = pd.read_csv('C:/Users/kaiom/Documents/TCC/Dados/Atualizados/Cliente_1/report_notas_comp.csv', low_memory = False, sep=',')"
   ]
  },
  {
   "cell_type": "code",
   "execution_count": null,
   "metadata": {},
   "outputs": [],
   "source": [
    "dados[['Assunto CPF/Login']].drop_duplicates()"
   ]
  },
  {
   "cell_type": "code",
   "execution_count": null,
   "metadata": {},
   "outputs": [],
   "source": [
    "competenciasValidas = dados[['Nome do modelo do formulário', 'Nome da Competência']]\n",
    "competenciasValidas.head()"
   ]
  },
  {
   "cell_type": "code",
   "execution_count": null,
   "metadata": {},
   "outputs": [],
   "source": [
    "competenciasValidas = competenciasValidas.drop_duplicates()\n",
    "competenciasValidas"
   ]
  },
  {
   "cell_type": "code",
   "execution_count": null,
   "metadata": {},
   "outputs": [],
   "source": [
    "competencias = pd.DataFrame(competenciasValidas.groupby('Nome da Competência').size(), columns=None).reset_index()\n"
   ]
  },
  {
   "cell_type": "code",
   "execution_count": null,
   "metadata": {},
   "outputs": [],
   "source": [
    "competencias.columns = ['Competencia','Frequencia']\n",
    "competencias"
   ]
  },
  {
   "cell_type": "code",
   "execution_count": null,
   "metadata": {},
   "outputs": [],
   "source": [
    "competenciasTodosAnos = competencias[ competencias['Frequencia'] == 4 ]\n",
    "competenciasTodosAnos"
   ]
  },
  {
   "cell_type": "code",
   "execution_count": null,
   "metadata": {
    "scrolled": true
   },
   "outputs": [],
   "source": [
    "listaCompValidas = list(competenciasTodosAnos['Competencia'])\n",
    "listaCompValidas"
   ]
  },
  {
   "cell_type": "code",
   "execution_count": null,
   "metadata": {
    "scrolled": true
   },
   "outputs": [],
   "source": [
    "selecao = dados['Nome da Competência'].isin(listaCompValidas)"
   ]
  },
  {
   "cell_type": "code",
   "execution_count": null,
   "metadata": {},
   "outputs": [],
   "source": [
    "dados_selecionados = dados[selecao]\n",
    "dados_selecionados.columns = ['idModelo','nomeModelo','idDocumento','userId','cargoId','funcao','area','dtNascimento','dtDesligamento','dtAdmissao','gestorId','notaGlobal','competenciaId','nomeCompetencia','autoAv','gestorAv']\n"
   ]
  },
  {
   "cell_type": "code",
   "execution_count": null,
   "metadata": {},
   "outputs": [],
   "source": [
    "participantesAno = dados_selecionados[['idModelo','userId']].drop_duplicates()\n",
    "participantesAno = participantesAno.sort_values(by=['userId'])\n",
    "participantesAno = pd.DataFrame(participantesAno.groupby('userId').size(), columns=None).reset_index()\n",
    "participantesAno.columns = ['Usuario','Frequencia']\n",
    "participantesValidos = participantesAno[ participantesAno['Frequencia'] == 4 ]\n",
    "participantesValidos = participantesValidos.drop_duplicates()\n",
    "listaParticipantesValidos = list(participantesValidos['Usuario'])\n",
    "selecaoParticipantes = dados_selecionados['userId'].isin(listaParticipantesValidos)\n",
    "dadosFinais = dados_selecionados[selecaoParticipantes]\n",
    "dadosFinais"
   ]
  },
  {
   "cell_type": "markdown",
   "metadata": {},
   "source": [
    "## Número de avaliados por ano"
   ]
  },
  {
   "cell_type": "code",
   "execution_count": null,
   "metadata": {},
   "outputs": [],
   "source": [
    "infoAvaliacoes = dadosFinais[['nomeModelo','userId']].drop_duplicates()\n",
    "infoAvaliacoes = pd.DataFrame(infoAvaliacoes.groupby('nomeModelo').size(), columns=None).reset_index()\n",
    "infoAvaliacoes"
   ]
  },
  {
   "cell_type": "code",
   "execution_count": null,
   "metadata": {},
   "outputs": [],
   "source": [
    "df = dadosFinais.pivot_table(index=[\"nomeModelo\",\"userId\",\"nomeCompetencia\"], values=\"gestorAv\")\n",
    "df"
   ]
  },
  {
   "cell_type": "markdown",
   "metadata": {},
   "source": [
    "## Join entre avaliações e PDI"
   ]
  },
  {
   "cell_type": "code",
   "execution_count": null,
   "metadata": {},
   "outputs": [],
   "source": [
    "pdiMapeado = pd.read_csv('C:/Users/kaiom/Documents/TCC/Dados/Atualizados/Cliente_1/report_pdi.csv', low_memory = False, sep=',')\n",
    "pdiMapeadoAjustado = pdiMapeado [['Nome do plano do Objetivo/meta de Desenvolvimento','Proprietário do Objetivo/meta CPF/Login','Nome da Competência','Nome da Competência']]\n",
    "pdiMapeadoAjustado.columns = [\"nomeModelo\",\"userId\",\"nomeCompetencia\",'Competência']\n",
    "pdiMapeadoAjustado = pdiMapeadoAjustado.set_index([\"nomeModelo\",\"userId\",\"nomeCompetencia\"])\n",
    "pdiMapeadoAjustado.head()"
   ]
  },
  {
   "cell_type": "code",
   "execution_count": null,
   "metadata": {},
   "outputs": [],
   "source": [
    "listaPdiMapeadoPorCompetencia = pd.merge(df.reset_index(), pdiMapeadoAjustado.reset_index(), on=[\"nomeModelo\",\"userId\",\"nomeCompetencia\"], how ='left')\n",
    "listaPdiMapeadoPorCompetencia.columns = [['Ano', 'userId','Competência','gestorAv','PDI?']]\n"
   ]
  },
  {
   "cell_type": "code",
   "execution_count": null,
   "metadata": {},
   "outputs": [],
   "source": [
    "listaPdiMapeadoPorCompetencia['PDI?'] = listaPdiMapeadoPorCompetencia['PDI?'].replace(to_replace =['Atuação integrada e estratégica',\n",
    " 'Autodesenvolvimento',\n",
    " 'Comunicação',\n",
    " 'Conhecimento do Mercado',\n",
    " 'Domínio técnico',\n",
    " 'Excelência Operacional',\n",
    " 'Foco em resultado',\n",
    " 'Foco no associado',\n",
    " 'Gestão e desenvolvimento de Pessoas',\n",
    " 'Identidade Institucional',\n",
    " 'Melhoria contínua',\n",
    " 'Promoção da Mudança',\n",
    " 'Tomada de decisão',\n",
    " 'Trabalho em equipe'], value =\"Sim\")\n",
    "\n",
    "listaPdiMapeadoPorCompetencia['PDI?'] = listaPdiMapeadoPorCompetencia['PDI?'].fillna('Não')\n"
   ]
  },
  {
   "cell_type": "code",
   "execution_count": null,
   "metadata": {},
   "outputs": [],
   "source": [
    "listaPdiMapeadoPorCompetencia.columns = ['anoAv','colaborador','comp','avaliacao','pdiAnoAnterior']"
   ]
  },
  {
   "cell_type": "code",
   "execution_count": null,
   "metadata": {},
   "outputs": [],
   "source": [
    "listaPdiMapeadoPorCompetencia.pivot_table(index=[\"colaborador\",\"comp\"], columns=['anoAv'], values=[\"avaliacao\"])\n"
   ]
  },
  {
   "cell_type": "code",
   "execution_count": null,
   "metadata": {},
   "outputs": [],
   "source": [
    "data = listaPdiMapeadoPorCompetencia.pivot_table(index=[\"colaborador\",\"comp\"], columns=['anoAv'], values=\"avaliacao\")"
   ]
  },
  {
   "cell_type": "code",
   "execution_count": null,
   "metadata": {},
   "outputs": [],
   "source": [
    "data = pd.DataFrame(data.to_records())"
   ]
  },
  {
   "cell_type": "code",
   "execution_count": null,
   "metadata": {},
   "outputs": [],
   "source": [
    "data[\"2016_analisado\"] = np.where(data['2015'] < data['2016'], 'Maior', np.where(data['2015'] > data['2016'], 'Menor', np.where(data['2015'] == data['2016'], 'Igual','Não Mapeado')))\n",
    "data[\"2017_analisado\"] = np.where(data['2016'] < data['2017'], 'Maior', np.where(data['2016'] > data['2017'], 'Menor', np.where(data['2016'] == data['2017'], 'Igual','Não Mapeado')))\n",
    "data[\"2018_analisado\"] = np.where(data['2017'] < data['2018'], 'Maior', np.where(data['2017'] > data['2018'], 'Menor', np.where(data['2017'] == data['2018'], 'Igual','Não Mapeado')))"
   ]
  },
  {
   "cell_type": "code",
   "execution_count": null,
   "metadata": {
    "scrolled": true
   },
   "outputs": [],
   "source": [
    "analiseDados = data[['colaborador','comp','2016_analisado','2017_analisado','2018_analisado']]\n",
    "analiseDados.set_index(['colaborador','comp'])"
   ]
  },
  {
   "cell_type": "code",
   "execution_count": null,
   "metadata": {},
   "outputs": [],
   "source": [
    "analiseCompetenciaEntreAnos = analiseDados.melt(id_vars=['colaborador','comp'],value_vars=['2016_analisado','2017_analisado','2018_analisado'])\n",
    "analiseCompetenciaEntreAnos.columns = ['colaborador','comp','anoAv','resultado']\n",
    "\n",
    "analiseCompetenciaEntreAnos[\"anoAv\"] = np.where(analiseCompetenciaEntreAnos[\"anoAv\"] == \"2016_analisado\", '2016', np.where(analiseCompetenciaEntreAnos[\"anoAv\"] == \"2017_analisado\", '2017', np.where(analiseCompetenciaEntreAnos[\"anoAv\"] == \"2018_analisado\", '2018', '')))\n",
    "analiseCompetenciaEntreAnos['anoAv'] = analiseCompetenciaEntreAnos.anoAv.astype(str)\n",
    "listaPdiMapeadoPorCompetencia['anoAv'] = listaPdiMapeadoPorCompetencia.anoAv.astype(str)"
   ]
  },
  {
   "cell_type": "markdown",
   "metadata": {},
   "source": [
    "## Tabela final de Análise - PDI e Análise entre anos"
   ]
  },
  {
   "cell_type": "code",
   "execution_count": null,
   "metadata": {
    "scrolled": true
   },
   "outputs": [],
   "source": [
    "tabelaFinal = pd.merge(analiseCompetenciaEntreAnos,listaPdiMapeadoPorCompetencia,how='left',on=['colaborador','comp','anoAv'])\n"
   ]
  },
  {
   "cell_type": "code",
   "execution_count": null,
   "metadata": {},
   "outputs": [],
   "source": [
    "tabelaFinal['pdiAnoAnterior'] = tabelaFinal['pdiAnoAnterior'].fillna('Não')\n",
    "resultadosNaoMapeados = tabelaFinal\n",
    "tabelaFinal = tabelaFinal[tabelaFinal.resultado != 'Não Mapeado']"
   ]
  },
  {
   "cell_type": "markdown",
   "metadata": {},
   "source": [
    "## Resultados incluindo competências \"Não Mapeadas\""
   ]
  },
  {
   "cell_type": "code",
   "execution_count": null,
   "metadata": {},
   "outputs": [],
   "source": [
    "comPdi = tabelaFinal['pdiAnoAnterior'] == 'Sim'\n",
    "semPdi = tabelaFinal['pdiAnoAnterior'] == 'Não'\n",
    "resultadosComPdi = tabelaFinal[comPdi]\n",
    "resultadosSemPdi = tabelaFinal[semPdi]\n",
    "\n",
    "comPdi_2016 = resultadosComPdi['anoAv'] == '2016'\n",
    "semPdi_2016 = resultadosSemPdi['anoAv'] == '2016'\n",
    "resultadosComPdi_2016 = resultadosComPdi[comPdi_2016]\n",
    "resultadosSemPdi_2016 = resultadosSemPdi[semPdi_2016]\n",
    "\n",
    "comPdi_2017 = resultadosComPdi['anoAv'] == '2017'\n",
    "semPdi_2017 = resultadosSemPdi['anoAv'] == '2017'\n",
    "resultadosComPdi_2017 = resultadosComPdi[comPdi_2017]\n",
    "resultadosSemPdi_2017 = resultadosSemPdi[semPdi_2017]\n",
    "\n",
    "comPdi_2018 = resultadosComPdi['anoAv'] == '2018'\n",
    "semPdi_2018 = resultadosSemPdi['anoAv'] == '2018'\n",
    "resultadosComPdi_2018 = resultadosComPdi[comPdi_2018]\n",
    "resultadosSemPdi_2018 = resultadosSemPdi[semPdi_2018]"
   ]
  },
  {
   "cell_type": "markdown",
   "metadata": {},
   "source": [
    "## Resultados Gerais"
   ]
  },
  {
   "cell_type": "code",
   "execution_count": null,
   "metadata": {},
   "outputs": [],
   "source": [
    "resultadosComPdi['resultado'].value_counts().plot(kind='pie',autopct='%1.1f%%',figsize=(5,5),colors=['#b0efff', '#d0ffb0', '#ffb4b0'], title='Resultado das competências que tiveram o PDI mapeado no ano anterior')\n",
    "plt.savefig('pdiMapeadoAnoAnterior.png', bbox_inches='tight')"
   ]
  },
  {
   "cell_type": "code",
   "execution_count": null,
   "metadata": {},
   "outputs": [],
   "source": [
    "resultadosSemPdi['resultado'].value_counts().plot(kind='pie',autopct='%1.1f%%',figsize=(5,5),colors=['#b0efff', '#d0ffb0', '#ffb4b0'], title='Resultado das competências não que tiveram o PDI mapeado no ano anterior')\n",
    "plt.savefig('pdiNaoMapeadoAnoAnterior.png', bbox_inches='tight')"
   ]
  },
  {
   "cell_type": "markdown",
   "metadata": {},
   "source": [
    "## [2015 x 2016] Resultados"
   ]
  },
  {
   "cell_type": "code",
   "execution_count": null,
   "metadata": {},
   "outputs": [],
   "source": [
    "analiseDados['2016_analisado'].value_counts().plot(kind='pie',autopct='%1.1f%%',figsize=(5,5),colors=['#b0efff', '#d0ffb0', '#ffb4b0'], title='Análise geral da avaliação de competências 2015 x 2016')\n",
    "plt.savefig('avComp2015-2016.png', bbox_inches='tight')"
   ]
  },
  {
   "cell_type": "code",
   "execution_count": null,
   "metadata": {},
   "outputs": [],
   "source": [
    "resultadosComPdi_2016['resultado'].value_counts().plot(kind='pie',autopct='%1.1f%%',figsize=(5,5),colors=['#b0efff', '#d0ffb0', '#ffb4b0'], title='[2016] Resultado das competências que tiveram o PDI mapeado no ano anterior')\n",
    "plt.savefig('avCompPdiMapeado2015-2016.png', bbox_inches='tight')"
   ]
  },
  {
   "cell_type": "code",
   "execution_count": null,
   "metadata": {},
   "outputs": [],
   "source": [
    "resultadosSemPdi_2016['resultado'].value_counts().plot(kind='pie',autopct='%1.1f%%',figsize=(5,5),colors=['#b0efff', '#d0ffb0', '#ffb4b0'], title='[2016] Resultado das competências que NÃO tiveram o PDI mapeado no ano anterior')\n",
    "plt.savefig('avCompPdiNaoMapeado2015-2016.png', bbox_inches='tight')"
   ]
  },
  {
   "cell_type": "markdown",
   "metadata": {},
   "source": [
    "## [2016 x 2017] Resultados"
   ]
  },
  {
   "cell_type": "code",
   "execution_count": null,
   "metadata": {},
   "outputs": [],
   "source": [
    "analiseDados['2017_analisado'].value_counts().plot(kind='pie',autopct='%1.1f%%',figsize=(5,5),colors=['#b0efff', '#d0ffb0', '#ffb4b0'],title='Análise geral da avaliação de competências 2016 x 2017')\n",
    "plt.savefig('avComp2016-2017.png', bbox_inches='tight')"
   ]
  },
  {
   "cell_type": "code",
   "execution_count": null,
   "metadata": {},
   "outputs": [],
   "source": [
    "resultadosComPdi_2017['resultado'].value_counts().plot(kind='pie',autopct='%1.1f%%',figsize=(5,5),colors=['#b0efff', '#d0ffb0', '#ffb4b0'], title='[2017] Resultado das competências que tiveram o PDI mapeado no ano anterior')\n",
    "plt.savefig('avCompPdiMapeado2016-2017.png', bbox_inches='tight')"
   ]
  },
  {
   "cell_type": "code",
   "execution_count": null,
   "metadata": {},
   "outputs": [],
   "source": [
    "resultadosSemPdi_2017['resultado'].value_counts().plot(kind='pie',autopct='%1.1f%%',figsize=(5,5),colors=['#b0efff', '#d0ffb0', '#ffb4b0'], title='[2017] Resultado das competências que NÃO tiveram o PDI mapeado no ano anterior')\n",
    "plt.savefig('avCompPdiNaoMapeado2016-2017.png', bbox_inches='tight')"
   ]
  },
  {
   "cell_type": "markdown",
   "metadata": {},
   "source": [
    "## [2017 x 2018] Resultados"
   ]
  },
  {
   "cell_type": "code",
   "execution_count": null,
   "metadata": {},
   "outputs": [],
   "source": [
    "analiseDados['2018_analisado'].value_counts().plot(kind='pie',autopct='%1.1f%%',figsize=(5,5),colors=['#b0efff', '#d0ffb0', '#ffb4b0'],title='Análise geral da avaliação de competências 2017 x 2018')\n",
    "plt.savefig('avComp2017-2018.png', bbox_inches='tight')"
   ]
  },
  {
   "cell_type": "code",
   "execution_count": null,
   "metadata": {},
   "outputs": [],
   "source": [
    "resultadosComPdi_2018['resultado'].value_counts().plot(kind='pie',autopct='%1.1f%%',figsize=(5,5),colors=['#b0efff', '#d0ffb0', '#ffb4b0'],title='[2018] Resultado das competências que tiveram o PDI mapeado no ano anterior')\n",
    "plt.savefig('avCompPdiMapeado2017-2018.png', bbox_inches='tight')"
   ]
  },
  {
   "cell_type": "code",
   "execution_count": null,
   "metadata": {
    "scrolled": true
   },
   "outputs": [],
   "source": [
    "resultadosSemPdi_2018['resultado'].value_counts().plot(kind='pie',autopct='%1.1f%%',figsize=(5,5),colors=['#b0efff', '#d0ffb0', '#ffb4b0'], title='[2018] Resultado das competências que NÃO tiveram o PDI mapeado no ano anterior')\n",
    "plt.savefig('avCompPdiNaoMapeado2017-2018.png', bbox_inches='tight')"
   ]
  },
  {
   "cell_type": "markdown",
   "metadata": {},
   "source": [
    "## Gráfico de  barras empilhadas da avaliação de competência ao longo dos processos"
   ]
  },
  {
   "cell_type": "markdown",
   "metadata": {},
   "source": [
    "# [2015x2016] Com PDI"
   ]
  },
  {
   "cell_type": "code",
   "execution_count": null,
   "metadata": {},
   "outputs": [],
   "source": [
    "mapeados_2016 = resultadosComPdi_2016['resultado'] != 'Não Mapeado'\n",
    "resultadoComPdi_2016_excluindoNaoMapeados = resultadosComPdi_2016[mapeados_2016]\n",
    "resultadoComPdi_2016_excluindoNaoMapeados\n",
    "resultadoComPdi_2016_excluindoNaoMapeados_analisado = resultadoComPdi_2016_excluindoNaoMapeados.pivot_table(index=['comp'],columns=['resultado'], values=['anoAv'],aggfunc='count')\n",
    "resultadoComPdi_2016_excluindoNaoMapeados_analisado = pd.DataFrame(resultadoComPdi_2016_excluindoNaoMapeados_analisado.to_records())\n",
    "resultadoComPdi_2016_excluindoNaoMapeados_analisado.columns = ['comp','Igual','Maior','Menor']\n",
    "df = resultadoComPdi_2016_excluindoNaoMapeados_analisado\n",
    "df"
   ]
  },
  {
   "cell_type": "code",
   "execution_count": null,
   "metadata": {
    "scrolled": true
   },
   "outputs": [],
   "source": [
    "# Create a figure with a single subplot\n",
    "f, ax = plt.subplots(1, figsize=(10,5))\n",
    "colunas = ['Igual','Maior','Menor']\n",
    "# Set bar width at 1\n",
    "bar_width = 1\n",
    "\n",
    "# positions of the left bar-boundaries\n",
    "bar_l = [i for i in range(len(df['Igual']))] \n",
    "\n",
    "# positions of the x-axis ticks (center of the bars as bar labels)\n",
    "tick_pos = [i+(bar_width/2) for i in bar_l] \n",
    "tick_pos_div = [i for i in bar_l] \n",
    "\n",
    "# Create the total score for each participant\n",
    "totals = [i+j+k for i,j,k in zip(df['Igual'], df['Maior'], df['Menor'])]\n",
    "\n",
    "# Create the percentage of the total score the pre_score value for each participant was\n",
    "pre_rel = [i / j * 100 for  i,j in zip(df['Igual'], totals)]\n",
    "pre_rel_pos = [(i / j * 100)/2 for  i,j in zip(df['Igual'], totals)]\n",
    "\n",
    "# Create the percentage of the total score the mid_score value for each participant was\n",
    "mid_rel = [i / j * 100 for  i,j in zip(df['Maior'], totals)]\n",
    "mid_rel_pos = [(i / j * 100)/2 for  i,j in zip(df['Maior'], totals)] \n",
    "mid_rel_pos2 = [i + j for  i,j in zip(pre_rel, mid_rel_pos)] \n",
    "\n",
    "# Create the percentage of the total score the post_score value for each participant was\n",
    "post_rel = [i / j * 100 for  i,j in zip(df['Menor'], totals)]\n",
    "post_rel_pos = [(i / j * 100)/2 for  i,j in zip(df['Menor'], totals)]\n",
    "post_rel_pos2 = [i + j + y for  i,j,y in zip(pre_rel, mid_rel,post_rel_pos)]\n",
    "\n",
    "# Create a bar chart in position bar_1\n",
    "ax.bar(bar_l, \n",
    "       # using pre_rel data\n",
    "       pre_rel, \n",
    "       # labeled \n",
    "       label='Igual', \n",
    "       # with alpha\n",
    "       alpha=0.9, \n",
    "       # with color\n",
    "       color='#b0efff',\n",
    "       # with bar width\n",
    "       width=bar_width,\n",
    "       # with border color\n",
    "       edgecolor='white'\n",
    "       )\n",
    "for xpos, ypos, yval in zip(tick_pos_div, pre_rel_pos, pre_rel):\n",
    "    plt.text(xpos, ypos, \"%.1f\"%yval + '%', ha=\"center\", va=\"center\",color='#000000')\n",
    "\n",
    "# Create a bar chart in position bar_1\n",
    "ax.bar(bar_l, \n",
    "       # using mid_rel data\n",
    "       mid_rel, \n",
    "       # with pre_rel\n",
    "       bottom=pre_rel, \n",
    "       # labeled \n",
    "       label='Maior', \n",
    "       # with alpha\n",
    "       alpha=0.9, \n",
    "       # with color\n",
    "       color='#d0ffb0', \n",
    "       # with bar width\n",
    "       width=bar_width,\n",
    "       # with border color\n",
    "       edgecolor='white'\n",
    "       )\n",
    "\n",
    "for xpos, ypos, yval in zip(tick_pos_div, mid_rel_pos2, mid_rel):\n",
    "    plt.text(xpos, ypos, \"%.1f\"%yval + '%', ha=\"center\", va=\"center\",color='#000000')\n",
    "\n",
    "# Create a bar chart in position bar_1\n",
    "ax.bar(bar_l, \n",
    "       # using post_rel data\n",
    "       post_rel, \n",
    "       # with pre_rel and mid_rel on bottom\n",
    "       bottom=[i+j for i,j in zip(pre_rel, mid_rel)], \n",
    "       # labeled \n",
    "       label='Menor',\n",
    "       # with alpha\n",
    "       alpha=0.9, \n",
    "       # with color\n",
    "       color='#ffb4b0', \n",
    "       # with bar width\n",
    "       width=bar_width,\n",
    "       # with border color\n",
    "       edgecolor='white'\n",
    "       )\n",
    "for xpos, ypos, yval in zip(tick_pos_div, post_rel_pos2, post_rel):\n",
    "    plt.text(xpos, ypos, \"%.1f\"%yval + '%', ha=\"center\", va=\"center\",color='#000000')\n",
    "\n",
    "# Set the ticks to be first names\n",
    "plt.xticks(tick_pos, df['comp'])\n",
    "ax.set_ylabel(\"Percentual\")\n",
    "ax.set_xlabel(\"\")\n",
    "\n",
    "# Let the borders of the graphic\n",
    "plt.xlim([min(tick_pos)-bar_width, max(tick_pos)+bar_width])\n",
    "plt.ylim(-10, 110)\n",
    "\n",
    "# rotate axis labels\n",
    "plt.setp(plt.gca().get_xticklabels(), rotation=45, horizontalalignment='right')\n",
    "\n",
    "\n",
    "# shot plot\n",
    "plt.title('[2015x2016] Competências com PDI mapeado no ano anterior')\n",
    "plt.legend(labels = colunas,fontsize= 14, loc='center left', bbox_to_anchor=(1.0, 0.5))\n",
    "plt.show()\n",
    "plt.savefig('barrasEmpilhadas - ComPDI2015-2016.png', bbox_inches='tight')\n"
   ]
  },
  {
   "cell_type": "markdown",
   "metadata": {},
   "source": [
    "# [2015x2016] Sem PDI"
   ]
  },
  {
   "cell_type": "code",
   "execution_count": null,
   "metadata": {},
   "outputs": [],
   "source": [
    "mapeados_2016 = resultadosSemPdi_2016['resultado'] != 'Não Mapeado'\n",
    "resultadoSemPdi_2016_excluindoNaoMapeados = resultadosSemPdi_2016[mapeados_2016]\n",
    "resultadoSemPdi_2016_excluindoNaoMapeados\n",
    "resultadoSemPdi_2016_excluindoNaoMapeados_analisado = resultadoSemPdi_2016_excluindoNaoMapeados.pivot_table(index=['comp'],columns=['resultado'], values=['anoAv'],aggfunc='count')\n",
    "resultadoSemPdi_2016_excluindoNaoMapeados_analisado = pd.DataFrame(resultadoSemPdi_2016_excluindoNaoMapeados_analisado.to_records())\n",
    "resultadoSemPdi_2016_excluindoNaoMapeados_analisado.columns = ['comp','Igual','Maior','Menor']\n",
    "df = resultadoSemPdi_2016_excluindoNaoMapeados_analisado\n",
    "df"
   ]
  },
  {
   "cell_type": "code",
   "execution_count": null,
   "metadata": {},
   "outputs": [],
   "source": [
    "# Create a figure with a single subplot\n",
    "f, ax = plt.subplots(1, figsize=(10,5))\n",
    "colunas = ['Igual','Maior','Menor']\n",
    "# Set bar width at 1\n",
    "bar_width = 1\n",
    "\n",
    "# positions of the left bar-boundaries\n",
    "bar_l = [i for i in range(len(df['Igual']))] \n",
    "\n",
    "# positions of the x-axis ticks (center of the bars as bar labels)\n",
    "tick_pos = [i+(bar_width/2) for i in bar_l] \n",
    "tick_pos_div = [i for i in bar_l] \n",
    "\n",
    "# Create the total score for each participant\n",
    "totals = [i+j+k for i,j,k in zip(df['Igual'], df['Maior'], df['Menor'])]\n",
    "\n",
    "# Create the percentage of the total score the pre_score value for each participant was\n",
    "pre_rel = [i / j * 100 for  i,j in zip(df['Igual'], totals)]\n",
    "pre_rel_pos = [(i / j * 100)/2 for  i,j in zip(df['Igual'], totals)]\n",
    "\n",
    "# Create the percentage of the total score the mid_score value for each participant was\n",
    "mid_rel = [i / j * 100 for  i,j in zip(df['Maior'], totals)]\n",
    "mid_rel_pos = [(i / j * 100)/2 for  i,j in zip(df['Maior'], totals)] \n",
    "mid_rel_pos2 = [i + j for  i,j in zip(pre_rel, mid_rel_pos)] \n",
    "\n",
    "# Create the percentage of the total score the post_score value for each participant was\n",
    "post_rel = [i / j * 100 for  i,j in zip(df['Menor'], totals)]\n",
    "post_rel_pos = [(i / j * 100)/2 for  i,j in zip(df['Menor'], totals)]\n",
    "post_rel_pos2 = [i + j + y for  i,j,y in zip(pre_rel, mid_rel,post_rel_pos)]\n",
    "\n",
    "# Create a bar chart in position bar_1\n",
    "ax.bar(bar_l, \n",
    "       # using pre_rel data\n",
    "       pre_rel, \n",
    "       # labeled \n",
    "       label='Igual', \n",
    "       # with alpha\n",
    "       alpha=0.9, \n",
    "       # with color\n",
    "       color='#b0efff',\n",
    "       # with bar width\n",
    "       width=bar_width,\n",
    "       # with border color\n",
    "       edgecolor='white'\n",
    "       )\n",
    "for xpos, ypos, yval in zip(tick_pos_div, pre_rel_pos, pre_rel):\n",
    "    plt.text(xpos, ypos, \"%.1f\"%yval + '%', ha=\"center\", va=\"center\",color='#000000')\n",
    "\n",
    "# Create a bar chart in position bar_1\n",
    "ax.bar(bar_l, \n",
    "       # using mid_rel data\n",
    "       mid_rel, \n",
    "       # with pre_rel\n",
    "       bottom=pre_rel, \n",
    "       # labeled \n",
    "       label='Maior', \n",
    "       # with alpha\n",
    "       alpha=0.9, \n",
    "       # with color\n",
    "       color='#d0ffb0', \n",
    "       # with bar width\n",
    "       width=bar_width,\n",
    "       # with border color\n",
    "       edgecolor='white'\n",
    "       )\n",
    "\n",
    "for xpos, ypos, yval in zip(tick_pos_div, mid_rel_pos2, mid_rel):\n",
    "    plt.text(xpos, ypos, \"%.1f\"%yval + '%', ha=\"center\", va=\"center\",color='#000000')\n",
    "\n",
    "# Create a bar chart in position bar_1\n",
    "ax.bar(bar_l, \n",
    "       # using post_rel data\n",
    "       post_rel, \n",
    "       # with pre_rel and mid_rel on bottom\n",
    "       bottom=[i+j for i,j in zip(pre_rel, mid_rel)], \n",
    "       # labeled \n",
    "       label='Menor',\n",
    "       # with alpha\n",
    "       alpha=0.9, \n",
    "       # with color\n",
    "       color='#ffb4b0', \n",
    "       # with bar width\n",
    "       width=bar_width,\n",
    "       # with border color\n",
    "       edgecolor='white'\n",
    "       )\n",
    "for xpos, ypos, yval in zip(tick_pos_div, post_rel_pos2, post_rel):\n",
    "    plt.text(xpos, ypos, \"%.1f\"%yval + '%', ha=\"center\", va=\"center\",color='#000000')\n",
    "\n",
    "# Set the ticks to be first names\n",
    "plt.xticks(tick_pos, df['comp'])\n",
    "ax.set_ylabel(\"Percentual\")\n",
    "ax.set_xlabel(\"\")\n",
    "\n",
    "# Let the borders of the graphic\n",
    "plt.xlim([min(tick_pos)-bar_width, max(tick_pos)+bar_width])\n",
    "plt.ylim(-10, 110)\n",
    "\n",
    "# rotate axis labels\n",
    "plt.setp(plt.gca().get_xticklabels(), rotation=45, horizontalalignment='right')\n",
    "\n",
    "\n",
    "# shot plot\n",
    "plt.title('[2015x2016] Competências sem PDI mapeado no ano anterior')\n",
    "plt.legend(labels = colunas,fontsize= 14, loc='center left', bbox_to_anchor=(1.0, 0.5))\n",
    "plt.show()\n",
    "plt.savefig('barrasEmpilhadas - SemPDI2015-2016.png', bbox_inches='tight')"
   ]
  },
  {
   "cell_type": "markdown",
   "metadata": {},
   "source": [
    "# [2016x2017] Com PDI"
   ]
  },
  {
   "cell_type": "code",
   "execution_count": null,
   "metadata": {},
   "outputs": [],
   "source": [
    "mapeados_2017 = resultadosComPdi_2017['resultado'] != 'Não Mapeado'\n",
    "resultadoComPdi_2017_excluindoNaoMapeados = resultadosComPdi_2017[mapeados_2017]\n",
    "resultadoComPdi_2017_excluindoNaoMapeados\n",
    "resultadoComPdi_2017_excluindoNaoMapeados_analisado = resultadoComPdi_2017_excluindoNaoMapeados.pivot_table(index=['comp'],columns=['resultado'], values=['anoAv'],aggfunc='count')\n",
    "resultadoComPdi_2017_excluindoNaoMapeados_analisado = pd.DataFrame(resultadoComPdi_2017_excluindoNaoMapeados_analisado.to_records())\n",
    "resultadoComPdi_2017_excluindoNaoMapeados_analisado.columns = ['comp','Igual','Maior','Menor']\n",
    "df = resultadoComPdi_2017_excluindoNaoMapeados_analisado\n",
    "df"
   ]
  },
  {
   "cell_type": "code",
   "execution_count": null,
   "metadata": {
    "scrolled": true
   },
   "outputs": [],
   "source": [
    "# Create a figure with a single subplot\n",
    "f, ax = plt.subplots(1, figsize=(10,5))\n",
    "colunas = ['Igual','Maior','Menor']\n",
    "# Set bar width at 1\n",
    "bar_width = 1\n",
    "\n",
    "# positions of the left bar-boundaries\n",
    "bar_l = [i for i in range(len(df['Igual']))] \n",
    "\n",
    "# positions of the x-axis ticks (center of the bars as bar labels)\n",
    "tick_pos = [i+(bar_width/2) for i in bar_l] \n",
    "tick_pos_div = [i for i in bar_l] \n",
    "\n",
    "# Create the total score for each participant\n",
    "totals = [i+j+k for i,j,k in zip(df['Igual'], df['Maior'], df['Menor'])]\n",
    "\n",
    "# Create the percentage of the total score the pre_score value for each participant was\n",
    "pre_rel = [i / j * 100 for  i,j in zip(df['Igual'], totals)]\n",
    "pre_rel_pos = [(i / j * 100)/2 for  i,j in zip(df['Igual'], totals)]\n",
    "\n",
    "# Create the percentage of the total score the mid_score value for each participant was\n",
    "mid_rel = [i / j * 100 for  i,j in zip(df['Maior'], totals)]\n",
    "mid_rel_pos = [(i / j * 100)/2 for  i,j in zip(df['Maior'], totals)] \n",
    "mid_rel_pos2 = [i + j for  i,j in zip(pre_rel, mid_rel_pos)] \n",
    "\n",
    "# Create the percentage of the total score the post_score value for each participant was\n",
    "post_rel = [i / j * 100 for  i,j in zip(df['Menor'], totals)]\n",
    "post_rel_pos = [(i / j * 100)/2 for  i,j in zip(df['Menor'], totals)]\n",
    "post_rel_pos2 = [i + j + y for  i,j,y in zip(pre_rel, mid_rel,post_rel_pos)]\n",
    "\n",
    "# Create a bar chart in position bar_1\n",
    "ax.bar(bar_l, \n",
    "       # using pre_rel data\n",
    "       pre_rel, \n",
    "       # labeled \n",
    "       label='Igual', \n",
    "       # with alpha\n",
    "       alpha=0.9, \n",
    "       # with color\n",
    "       color='#b0efff',\n",
    "       # with bar width\n",
    "       width=bar_width,\n",
    "       # with border color\n",
    "       edgecolor='white'\n",
    "       )\n",
    "for xpos, ypos, yval in zip(tick_pos_div, pre_rel_pos, pre_rel):\n",
    "    plt.text(xpos, ypos, \"%.1f\"%yval + '%', ha=\"center\", va=\"center\",color='#000000')\n",
    "\n",
    "# Create a bar chart in position bar_1\n",
    "ax.bar(bar_l, \n",
    "       # using mid_rel data\n",
    "       mid_rel, \n",
    "       # with pre_rel\n",
    "       bottom=pre_rel, \n",
    "       # labeled \n",
    "       label='Maior', \n",
    "       # with alpha\n",
    "       alpha=0.9, \n",
    "       # with color\n",
    "       color='#d0ffb0', \n",
    "       # with bar width\n",
    "       width=bar_width,\n",
    "       # with border color\n",
    "       edgecolor='white'\n",
    "       )\n",
    "\n",
    "for xpos, ypos, yval in zip(tick_pos_div, mid_rel_pos2, mid_rel):\n",
    "    plt.text(xpos, ypos, \"%.1f\"%yval + '%', ha=\"center\", va=\"center\",color='#000000')\n",
    "\n",
    "# Create a bar chart in position bar_1\n",
    "ax.bar(bar_l, \n",
    "       # using post_rel data\n",
    "       post_rel, \n",
    "       # with pre_rel and mid_rel on bottom\n",
    "       bottom=[i+j for i,j in zip(pre_rel, mid_rel)], \n",
    "       # labeled \n",
    "       label='Menor',\n",
    "       # with alpha\n",
    "       alpha=0.9, \n",
    "       # with color\n",
    "       color='#ffb4b0', \n",
    "       # with bar width\n",
    "       width=bar_width,\n",
    "       # with border color\n",
    "       edgecolor='white'\n",
    "       )\n",
    "for xpos, ypos, yval in zip(tick_pos_div, post_rel_pos2, post_rel):\n",
    "    plt.text(xpos, ypos, \"%.1f\"%yval + '%', ha=\"center\", va=\"center\",color='#000000')\n",
    "\n",
    "# Set the ticks to be first names\n",
    "plt.xticks(tick_pos, df['comp'])\n",
    "ax.set_ylabel(\"Percentual\")\n",
    "ax.set_xlabel(\"\")\n",
    "\n",
    "# Let the borders of the graphic\n",
    "plt.xlim([min(tick_pos)-bar_width, max(tick_pos)+bar_width])\n",
    "plt.ylim(-10, 110)\n",
    "\n",
    "# rotate axis labels\n",
    "plt.setp(plt.gca().get_xticklabels(), rotation=45, horizontalalignment='right')\n",
    "\n",
    "\n",
    "# shot plot\n",
    "plt.title('[2016x2017] Competências com PDI mapeado no ano anterior')\n",
    "plt.legend(labels = colunas,fontsize= 14, loc='center left', bbox_to_anchor=(1.0, 0.5))\n",
    "plt.show()\n",
    "plt.savefig('barrasEmpilhadas - ComPDI2016-2017.png', bbox_inches='tight')"
   ]
  },
  {
   "cell_type": "markdown",
   "metadata": {},
   "source": [
    "# [2016x2017] Sem PDI"
   ]
  },
  {
   "cell_type": "code",
   "execution_count": null,
   "metadata": {},
   "outputs": [],
   "source": [
    "mapeados_2017 = resultadosSemPdi_2017['resultado'] != 'Não Mapeado'\n",
    "resultadoSemPdi_2017_excluindoNaoMapeados = resultadosSemPdi_2017[mapeados_2017]\n",
    "resultadoSemPdi_2017_excluindoNaoMapeados\n",
    "resultadoSemPdi_2017_excluindoNaoMapeados_analisado = resultadoSemPdi_2017_excluindoNaoMapeados.pivot_table(index=['comp'],columns=['resultado'], values=['anoAv'],aggfunc='count')\n",
    "resultadoSemPdi_2017_excluindoNaoMapeados_analisado = pd.DataFrame(resultadoSemPdi_2017_excluindoNaoMapeados_analisado.to_records())\n",
    "resultadoSemPdi_2017_excluindoNaoMapeados_analisado.columns = ['comp','Igual','Maior','Menor']\n",
    "df = resultadoSemPdi_2017_excluindoNaoMapeados_analisado\n",
    "df"
   ]
  },
  {
   "cell_type": "code",
   "execution_count": null,
   "metadata": {},
   "outputs": [],
   "source": [
    "# Create a figure with a single subplot\n",
    "f, ax = plt.subplots(1, figsize=(10,5))\n",
    "colunas = ['Igual','Maior','Menor']\n",
    "# Set bar width at 1\n",
    "bar_width = 1\n",
    "\n",
    "# positions of the left bar-boundaries\n",
    "bar_l = [i for i in range(len(df['Igual']))] \n",
    "\n",
    "# positions of the x-axis ticks (center of the bars as bar labels)\n",
    "tick_pos = [i+(bar_width/2) for i in bar_l] \n",
    "tick_pos_div = [i for i in bar_l] \n",
    "\n",
    "# Create the total score for each participant\n",
    "totals = [i+j+k for i,j,k in zip(df['Igual'], df['Maior'], df['Menor'])]\n",
    "\n",
    "# Create the percentage of the total score the pre_score value for each participant was\n",
    "pre_rel = [i / j * 100 for  i,j in zip(df['Igual'], totals)]\n",
    "pre_rel_pos = [(i / j * 100)/2 for  i,j in zip(df['Igual'], totals)]\n",
    "\n",
    "# Create the percentage of the total score the mid_score value for each participant was\n",
    "mid_rel = [i / j * 100 for  i,j in zip(df['Maior'], totals)]\n",
    "mid_rel_pos = [(i / j * 100)/2 for  i,j in zip(df['Maior'], totals)] \n",
    "mid_rel_pos2 = [i + j for  i,j in zip(pre_rel, mid_rel_pos)] \n",
    "\n",
    "# Create the percentage of the total score the post_score value for each participant was\n",
    "post_rel = [i / j * 100 for  i,j in zip(df['Menor'], totals)]\n",
    "post_rel_pos = [(i / j * 100)/2 for  i,j in zip(df['Menor'], totals)]\n",
    "post_rel_pos2 = [i + j + y for  i,j,y in zip(pre_rel, mid_rel,post_rel_pos)]\n",
    "\n",
    "# Create a bar chart in position bar_1\n",
    "ax.bar(bar_l, \n",
    "       # using pre_rel data\n",
    "       pre_rel, \n",
    "       # labeled \n",
    "       label='Igual', \n",
    "       # with alpha\n",
    "       alpha=0.9, \n",
    "       # with color\n",
    "       color='#b0efff',\n",
    "       # with bar width\n",
    "       width=bar_width,\n",
    "       # with border color\n",
    "       edgecolor='white'\n",
    "       )\n",
    "for xpos, ypos, yval in zip(tick_pos_div, pre_rel_pos, pre_rel):\n",
    "    plt.text(xpos, ypos, \"%.1f\"%yval + '%', ha=\"center\", va=\"center\",color='#000000')\n",
    "\n",
    "# Create a bar chart in position bar_1\n",
    "ax.bar(bar_l, \n",
    "       # using mid_rel data\n",
    "       mid_rel, \n",
    "       # with pre_rel\n",
    "       bottom=pre_rel, \n",
    "       # labeled \n",
    "       label='Maior', \n",
    "       # with alpha\n",
    "       alpha=0.9, \n",
    "       # with color\n",
    "       color='#d0ffb0', \n",
    "       # with bar width\n",
    "       width=bar_width,\n",
    "       # with border color\n",
    "       edgecolor='white'\n",
    "       )\n",
    "\n",
    "for xpos, ypos, yval in zip(tick_pos_div, mid_rel_pos2, mid_rel):\n",
    "    plt.text(xpos, ypos, \"%.1f\"%yval + '%', ha=\"center\", va=\"center\",color='#000000')\n",
    "\n",
    "# Create a bar chart in position bar_1\n",
    "ax.bar(bar_l, \n",
    "       # using post_rel data\n",
    "       post_rel, \n",
    "       # with pre_rel and mid_rel on bottom\n",
    "       bottom=[i+j for i,j in zip(pre_rel, mid_rel)], \n",
    "       # labeled \n",
    "       label='Menor',\n",
    "       # with alpha\n",
    "       alpha=0.9, \n",
    "       # with color\n",
    "       color='#ffb4b0', \n",
    "       # with bar width\n",
    "       width=bar_width,\n",
    "       # with border color\n",
    "       edgecolor='white'\n",
    "       )\n",
    "for xpos, ypos, yval in zip(tick_pos_div, post_rel_pos2, post_rel):\n",
    "    plt.text(xpos, ypos, \"%.1f\"%yval + '%', ha=\"center\", va=\"center\",color='#000000')\n",
    "\n",
    "# Set the ticks to be first names\n",
    "plt.xticks(tick_pos, df['comp'])\n",
    "ax.set_ylabel(\"Percentual\")\n",
    "ax.set_xlabel(\"\")\n",
    "\n",
    "# Let the borders of the graphic\n",
    "plt.xlim([min(tick_pos)-bar_width, max(tick_pos)+bar_width])\n",
    "plt.ylim(-10, 110)\n",
    "\n",
    "# rotate axis labels\n",
    "plt.setp(plt.gca().get_xticklabels(), rotation=45, horizontalalignment='right')\n",
    "\n",
    "\n",
    "# shot plot\n",
    "plt.title('[2016x2017] Competências sem PDI mapeado no ano anterior')\n",
    "plt.legend(labels = colunas,fontsize= 14, loc='center left', bbox_to_anchor=(1.0, 0.5))\n",
    "plt.show()\n",
    "plt.savefig('barrasEmpilhadas - SemPDI2016-2017.png', bbox_inches='tight')"
   ]
  },
  {
   "cell_type": "markdown",
   "metadata": {},
   "source": [
    "# [2017x2018] Com PDI"
   ]
  },
  {
   "cell_type": "code",
   "execution_count": null,
   "metadata": {},
   "outputs": [],
   "source": [
    "mapeados_2018 = resultadosComPdi_2018['resultado'] != 'Não Mapeado'\n",
    "resultadoComPdi_2018_excluindoNaoMapeados = resultadosComPdi_2018[mapeados_2018]\n",
    "resultadoComPdi_2018_excluindoNaoMapeados\n",
    "resultadoComPdi_2018_excluindoNaoMapeados_analisado = resultadoComPdi_2018_excluindoNaoMapeados.pivot_table(index=['comp'],columns=['resultado'], values=['anoAv'],aggfunc='count')\n",
    "resultadoComPdi_2018_excluindoNaoMapeados_analisado = pd.DataFrame(resultadoComPdi_2018_excluindoNaoMapeados_analisado.to_records())\n",
    "resultadoComPdi_2018_excluindoNaoMapeados_analisado.columns = ['comp','Igual','Maior','Menor']\n",
    "df = resultadoComPdi_2018_excluindoNaoMapeados_analisado\n",
    "\n",
    "df['Maior'] = df['Maior'].fillna(value=0)\n",
    "df"
   ]
  },
  {
   "cell_type": "code",
   "execution_count": null,
   "metadata": {},
   "outputs": [],
   "source": [
    "# Create a figure with a single subplot\n",
    "f, ax = plt.subplots(1, figsize=(10,5))\n",
    "colunas = ['Igual','Maior','Menor']\n",
    "# Set bar width at 1\n",
    "bar_width = 1\n",
    "\n",
    "# positions of the left bar-boundaries\n",
    "bar_l = [i for i in range(len(df['Igual']))] \n",
    "\n",
    "# positions of the x-axis ticks (center of the bars as bar labels)\n",
    "tick_pos = [i+(bar_width/2) for i in bar_l] \n",
    "tick_pos_div = [i for i in bar_l] \n",
    "\n",
    "# Create the total score for each participant\n",
    "totals = [i+j+k for i,j,k in zip(df['Igual'], df['Maior'], df['Menor'])]\n",
    "\n",
    "# Create the percentage of the total score the pre_score value for each participant was\n",
    "pre_rel = [i / j * 100 for  i,j in zip(df['Igual'], totals)]\n",
    "pre_rel_pos = [(i / j * 100)/2 for  i,j in zip(df['Igual'], totals)]\n",
    "\n",
    "# Create the percentage of the total score the mid_score value for each participant was\n",
    "mid_rel = [i / j * 100 for  i,j in zip(df['Maior'], totals)]\n",
    "mid_rel_pos = [(i / j * 100)/2 for  i,j in zip(df['Maior'], totals)] \n",
    "mid_rel_pos2 = [i + j for  i,j in zip(pre_rel, mid_rel_pos)] \n",
    "\n",
    "# Create the percentage of the total score the post_score value for each participant was\n",
    "post_rel = [i / j * 100 for  i,j in zip(df['Menor'], totals)]\n",
    "post_rel_pos = [(i / j * 100)/2 for  i,j in zip(df['Menor'], totals)]\n",
    "post_rel_pos2 = [i + j + y for  i,j,y in zip(pre_rel, mid_rel,post_rel_pos)]\n",
    "\n",
    "# Create a bar chart in position bar_1\n",
    "ax.bar(bar_l, \n",
    "       # using pre_rel data\n",
    "       pre_rel, \n",
    "       # labeled \n",
    "       label='Igual', \n",
    "       # with alpha\n",
    "       alpha=0.9, \n",
    "       # with color\n",
    "       color='#b0efff',\n",
    "       # with bar width\n",
    "       width=bar_width,\n",
    "       # with border color\n",
    "       edgecolor='white'\n",
    "       )\n",
    "for xpos, ypos, yval in zip(tick_pos_div, pre_rel_pos, pre_rel):\n",
    "    plt.text(xpos, ypos, \"%.1f\"%yval + '%', ha=\"center\", va=\"center\",color='#000000')\n",
    "\n",
    "# Create a bar chart in position bar_1\n",
    "ax.bar(bar_l, \n",
    "       # using mid_rel data\n",
    "       mid_rel, \n",
    "       # with pre_rel\n",
    "       bottom=pre_rel, \n",
    "       # labeled \n",
    "       label='Maior', \n",
    "       # with alpha\n",
    "       alpha=0.9, \n",
    "       # with color\n",
    "       color='#d0ffb0', \n",
    "       # with bar width\n",
    "       width=bar_width,\n",
    "       # with border color\n",
    "       edgecolor='white'\n",
    "       )\n",
    "\n",
    "for xpos, ypos, yval in zip(tick_pos_div, mid_rel_pos2, mid_rel):\n",
    "    plt.text(xpos, ypos, \"%.1f\"%yval + '%', ha=\"center\", va=\"center\",color='#000000')\n",
    "\n",
    "# Create a bar chart in position bar_1\n",
    "ax.bar(bar_l, \n",
    "       # using post_rel data\n",
    "       post_rel, \n",
    "       # with pre_rel and mid_rel on bottom\n",
    "       bottom=[i+j for i,j in zip(pre_rel, mid_rel)], \n",
    "       # labeled \n",
    "       label='Menor',\n",
    "       # with alpha\n",
    "       alpha=0.9, \n",
    "       # with color\n",
    "       color='#ffb4b0', \n",
    "       # with bar width\n",
    "       width=bar_width,\n",
    "       # with border color\n",
    "       edgecolor='white'\n",
    "       )\n",
    "for xpos, ypos, yval in zip(tick_pos_div, post_rel_pos2, post_rel):\n",
    "    plt.text(xpos, ypos, \"%.1f\"%yval + '%', ha=\"center\", va=\"center\",color='#000000')\n",
    "\n",
    "# Set the ticks to be first names\n",
    "plt.xticks(tick_pos, df['comp'])\n",
    "ax.set_ylabel(\"Percentual\")\n",
    "ax.set_xlabel(\"\")\n",
    "\n",
    "# Let the borders of the graphic\n",
    "plt.xlim([min(tick_pos)-bar_width, max(tick_pos)+bar_width])\n",
    "plt.ylim(-10, 110)\n",
    "\n",
    "# rotate axis labels\n",
    "plt.setp(plt.gca().get_xticklabels(), rotation=45, horizontalalignment='right')\n",
    "\n",
    "\n",
    "# shot plot\n",
    "plt.title('[2017x2018] Competências com PDI mapeado no ano anterior')\n",
    "plt.legend(labels = colunas,fontsize= 14, loc='center left', bbox_to_anchor=(1.0, 0.5))\n",
    "plt.show()\n",
    "plt.savefig('barrasEmpilhadas - ComPDI2017-2018.png', bbox_inches='tight')"
   ]
  },
  {
   "cell_type": "markdown",
   "metadata": {},
   "source": [
    "# [2017x2018] Sem PDI"
   ]
  },
  {
   "cell_type": "code",
   "execution_count": null,
   "metadata": {},
   "outputs": [],
   "source": [
    "mapeados_2018 = resultadosSemPdi_2018['resultado'] != 'Não Mapeado'\n",
    "resultadoSemPdi_2018_excluindoNaoMapeados = resultadosSemPdi_2018[mapeados_2018]\n",
    "resultadoSemPdi_2018_excluindoNaoMapeados\n",
    "resultadoSemPdi_2018_excluindoNaoMapeados_analisado = resultadoSemPdi_2018_excluindoNaoMapeados.pivot_table(index=['comp'],columns=['resultado'], values=['anoAv'],aggfunc='count')\n",
    "resultadoSemPdi_2018_excluindoNaoMapeados_analisado = pd.DataFrame(resultadoSemPdi_2018_excluindoNaoMapeados_analisado.to_records())\n",
    "resultadoSemPdi_2018_excluindoNaoMapeados_analisado.columns = ['comp','Igual','Maior','Menor']\n",
    "df = resultadoSemPdi_2018_excluindoNaoMapeados_analisado\n",
    "df"
   ]
  },
  {
   "cell_type": "code",
   "execution_count": null,
   "metadata": {},
   "outputs": [],
   "source": [
    "# Create a figure with a single subplot\n",
    "f, ax = plt.subplots(1, figsize=(10,5))\n",
    "colunas = ['Igual','Maior','Menor']\n",
    "# Set bar width at 1\n",
    "bar_width = 1\n",
    "\n",
    "# positions of the left bar-boundaries\n",
    "bar_l = [i for i in range(len(df['Igual']))] \n",
    "\n",
    "# positions of the x-axis ticks (center of the bars as bar labels)\n",
    "tick_pos = [i+(bar_width/2) for i in bar_l] \n",
    "tick_pos_div = [i for i in bar_l] \n",
    "\n",
    "# Create the total score for each participant\n",
    "totals = [i+j+k for i,j,k in zip(df['Igual'], df['Maior'], df['Menor'])]\n",
    "\n",
    "# Create the percentage of the total score the pre_score value for each participant was\n",
    "pre_rel = [i / j * 100 for  i,j in zip(df['Igual'], totals)]\n",
    "pre_rel_pos = [(i / j * 100)/2 for  i,j in zip(df['Igual'], totals)]\n",
    "\n",
    "# Create the percentage of the total score the mid_score value for each participant was\n",
    "mid_rel = [i / j * 100 for  i,j in zip(df['Maior'], totals)]\n",
    "mid_rel_pos = [(i / j * 100)/2 for  i,j in zip(df['Maior'], totals)] \n",
    "mid_rel_pos2 = [i + j for  i,j in zip(pre_rel, mid_rel_pos)] \n",
    "\n",
    "# Create the percentage of the total score the post_score value for each participant was\n",
    "post_rel = [i / j * 100 for  i,j in zip(df['Menor'], totals)]\n",
    "post_rel_pos = [(i / j * 100)/2 for  i,j in zip(df['Menor'], totals)]\n",
    "post_rel_pos2 = [i + j + y for  i,j,y in zip(pre_rel, mid_rel,post_rel_pos)]\n",
    "\n",
    "# Create a bar chart in position bar_1\n",
    "ax.bar(bar_l, \n",
    "       # using pre_rel data\n",
    "       pre_rel, \n",
    "       # labeled \n",
    "       label='Igual', \n",
    "       # with alpha\n",
    "       alpha=0.9, \n",
    "       # with color\n",
    "       color='#b0efff',\n",
    "       # with bar width\n",
    "       width=bar_width,\n",
    "       # with border color\n",
    "       edgecolor='white'\n",
    "       )\n",
    "for xpos, ypos, yval in zip(tick_pos_div, pre_rel_pos, pre_rel):\n",
    "    plt.text(xpos, ypos, \"%.1f\"%yval + '%', ha=\"center\", va=\"center\",color='#000000')\n",
    "\n",
    "# Create a bar chart in position bar_1\n",
    "ax.bar(bar_l, \n",
    "       # using mid_rel data\n",
    "       mid_rel, \n",
    "       # with pre_rel\n",
    "       bottom=pre_rel, \n",
    "       # labeled \n",
    "       label='Maior', \n",
    "       # with alpha\n",
    "       alpha=0.9, \n",
    "       # with color\n",
    "       color='#d0ffb0', \n",
    "       # with bar width\n",
    "       width=bar_width,\n",
    "       # with border color\n",
    "       edgecolor='white'\n",
    "       )\n",
    "\n",
    "for xpos, ypos, yval in zip(tick_pos_div, mid_rel_pos2, mid_rel):\n",
    "    plt.text(xpos, ypos, \"%.1f\"%yval + '%', ha=\"center\", va=\"center\",color='#000000')\n",
    "\n",
    "# Create a bar chart in position bar_1\n",
    "ax.bar(bar_l, \n",
    "       # using post_rel data\n",
    "       post_rel, \n",
    "       # with pre_rel and mid_rel on bottom\n",
    "       bottom=[i+j for i,j in zip(pre_rel, mid_rel)], \n",
    "       # labeled \n",
    "       label='Menor',\n",
    "       # with alpha\n",
    "       alpha=0.9, \n",
    "       # with color\n",
    "       color='#ffb4b0', \n",
    "       # with bar width\n",
    "       width=bar_width,\n",
    "       # with border color\n",
    "       edgecolor='white'\n",
    "       )\n",
    "for xpos, ypos, yval in zip(tick_pos_div, post_rel_pos2, post_rel):\n",
    "    plt.text(xpos, ypos, \"%.1f\"%yval + '%', ha=\"center\", va=\"center\",color='#000000')\n",
    "\n",
    "# Set the ticks to be first names\n",
    "plt.xticks(tick_pos, df['comp'])\n",
    "ax.set_ylabel(\"Percentual\")\n",
    "ax.set_xlabel(\"\")\n",
    "\n",
    "# Let the borders of the graphic\n",
    "plt.xlim([min(tick_pos)-bar_width, max(tick_pos)+bar_width])\n",
    "plt.ylim(-10, 110)\n",
    "\n",
    "# rotate axis labels\n",
    "plt.setp(plt.gca().get_xticklabels(), rotation=45, horizontalalignment='right')\n",
    "\n",
    "\n",
    "# shot plot\n",
    "plt.title('[2017x2018] Competências sem PDI mapeado no ano anterior')\n",
    "plt.legend(labels = colunas,fontsize= 14, loc='center left', bbox_to_anchor=(1.0, 0.5))\n",
    "plt.show()\n",
    "plt.savefig('barrasEmpilhadas - SemPDI2017-2018.png')"
   ]
  },
  {
   "cell_type": "markdown",
   "metadata": {},
   "source": [
    "## Análise não mapeados"
   ]
  },
  {
   "cell_type": "code",
   "execution_count": null,
   "metadata": {},
   "outputs": [],
   "source": [
    "naoMapeadosComPdi = resultadosNaoMapeados['pdiAnoAnterior'] == 'Sim'\n",
    "naoMapeadosSemPdi = resultadosNaoMapeados['pdiAnoAnterior'] == 'Não'\n",
    "resultadosNaoMapeadosComPdi = resultadosNaoMapeados[naoMapeadosComPdi]\n",
    "resultadosNaoMapeadosSemPdi = resultadosNaoMapeados[naoMapeadosSemPdi]\n",
    "\n",
    "naoMapeados_2016 = resultadosNaoMapeados['anoAv'] == '2016'\n",
    "resultadosNaoMapeados_2016 = resultadosNaoMapeados[naoMapeados_2016]\n",
    "\n",
    "naoMapeados_2017 = resultadosNaoMapeados['anoAv'] == '2017'\n",
    "resultadosNaoMapeados_2017 = resultadosNaoMapeados[naoMapeados_2017]\n",
    "\n",
    "naoMapeados_2018 = resultadosNaoMapeados['anoAv'] == '2018'\n",
    "resultadosNaoMapeados_2018 = resultadosNaoMapeados[naoMapeados_2018]"
   ]
  },
  {
   "cell_type": "code",
   "execution_count": null,
   "metadata": {},
   "outputs": [],
   "source": [
    "resultadosNaoMapeados_2016[\"resultado\"] = np.where(resultadosNaoMapeados_2016['resultado'] != 'Não Mapeado', 'Mapeado','Não Mapeado')\n",
    "\n",
    "resultadosNaoMapeados_2017[\"resultado\"] = np.where(resultadosNaoMapeados_2017['resultado'] != 'Não Mapeado', 'Mapeado','Não Mapeado')\n",
    "\n",
    "resultadosNaoMapeados_2018[\"resultado\"] = np.where(resultadosNaoMapeados_2018['resultado'] != 'Não Mapeado', 'Mapeado','Não Mapeado')\n"
   ]
  },
  {
   "cell_type": "code",
   "execution_count": null,
   "metadata": {},
   "outputs": [],
   "source": [
    "resultadosNaoMapeados_2016[\"resultado\"].value_counts().plot(kind='pie',autopct='%1.1f%%',figsize=(5,5),colors=['#d0ffb0', '#f77676'], title='[2015 x 2016] Análise de competências mapeadas ').set_ylabel('')"
   ]
  },
  {
   "cell_type": "code",
   "execution_count": null,
   "metadata": {},
   "outputs": [],
   "source": [
    "resultadosNaoMapeados_2017[\"resultado\"].value_counts().plot(kind='pie',autopct='%1.1f%%',figsize=(5,5),colors=['#d0ffb0', '#f77676'], title='[2016 x 2017] Análise de competências mapeadas ').set_ylabel('')\n"
   ]
  },
  {
   "cell_type": "code",
   "execution_count": null,
   "metadata": {},
   "outputs": [],
   "source": [
    "resultadosNaoMapeados_2018[\"resultado\"].value_counts().plot(kind='pie',autopct='%1.1f%%',figsize=(5,5),colors=['#d0ffb0', '#f77676'], title='[2017 x 2018] Análise de competências mapeadas ').set_ylabel('')\n"
   ]
  },
  {
   "cell_type": "code",
   "execution_count": null,
   "metadata": {},
   "outputs": [],
   "source": []
  }
 ],
 "metadata": {
  "kernelspec": {
   "display_name": "Python 3",
   "language": "python",
   "name": "python3"
  },
  "language_info": {
   "codemirror_mode": {
    "name": "ipython",
    "version": 3
   },
   "file_extension": ".py",
   "mimetype": "text/x-python",
   "name": "python",
   "nbconvert_exporter": "python",
   "pygments_lexer": "ipython3",
   "version": "3.7.0"
  }
 },
 "nbformat": 4,
 "nbformat_minor": 2
}
